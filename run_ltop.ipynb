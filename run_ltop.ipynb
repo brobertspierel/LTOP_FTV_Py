{
 "cells": [
  {
   "cell_type": "markdown",
   "metadata": {},
   "source": [
    "This notebook is intended to run the full LandTrendr Optimization (LTOP) workflow implemented in Python. This tool is intended to be used to select the 'optiumum' version of the LandTrendr change detection algorithm (Kennedy et al., 2010, 2018) for different areas on a landscape. \n",
    "\n",
    "#### Notes\n",
    "- You need to authenticate the run with a specific GEE account. In the import params statement its going to trigger the ee.Authenticate() protocal which will prompt you to a browser page to authenticate using your GEE account. \n",
    "- Subsequent scripts have just the ee.Initialize protocal because you should have already authenicated and this should only happen once. \n",
    "- Right now this is going to import the params from a separate .py file and treat those as imports. It may actually be easier/more straight forward if we're going to stick with a Jupyter Notebook to just put these directly into a cell here in the Jupyter Notebook. \n",
    "- If you import a module at the top and then change something in the exe script you will need to restart or otherwise delete variables because that change won't be reflected otherwise. "
   ]
  },
  {
   "cell_type": "code",
   "execution_count": 2,
   "metadata": {},
   "outputs": [],
   "source": [
    "import ee \n",
    "import params\n",
    "import time \n",
    "import ltop \n",
    "from run_SNIC_01 import RunSNIC\n",
    "import run_kMeans_02_1 as kmeans_1\n",
    "# import run_kMeans_02_2 as kmeans_2"
   ]
  },
  {
   "cell_type": "markdown",
   "metadata": {},
   "source": [
    "There is potentially an issue here where running a cell for a large area will result in a problem with the cell hanging. This may be an issue particuarly if you're running this thing in a browser. Its also possible that it will just start a job on the GEE server and then finish running here in the notebook. "
   ]
  },
  {
   "cell_type": "markdown",
   "metadata": {},
   "source": [
    "In order to check if a task is done we can get the task status and check to see if its done. Define a little function that can be recycled below for that purpose. "
   ]
  },
  {
   "cell_type": "code",
   "execution_count": 3,
   "metadata": {},
   "outputs": [],
   "source": [
    "def check_task_status(task_dict): \n",
    "    '''\n",
    "    Input to this function should be a dictionary that is formatted \n",
    "    like the output of task.status()\n",
    "    '''\n",
    "    task_id = task_dict['id']\n",
    "    #for some reason GEE defaults this to a list with a dictioanary as its only item\n",
    "    task_status = ee.data.getTaskStatus(task_id)[0]\n",
    "    \n",
    "    return task_status['state']"
   ]
  },
  {
   "cell_type": "code",
   "execution_count": 4,
   "metadata": {},
   "outputs": [],
   "source": [
    "#run the first SNIC step \n",
    "\n",
    "snic = RunSNIC(params)\n",
    "\n",
    "status1,status2 = snic.generate_tasks()\n"
   ]
  },
  {
   "cell_type": "code",
   "execution_count": 5,
   "metadata": {},
   "outputs": [],
   "source": [
    "#run the second kmeans step, checking first to see if the first one is done\n",
    "# snic_pts\n",
    "\n",
    "# snic_pts = ee.FeatureCollection(snic_pts).first()\n",
    "# snic_pts\n",
    "task_status = check_task_status(status1)\n",
    "while task_status: \n",
    "    if task_status == 'COMPLETED': \n",
    "        print('The previous task is complete')\n",
    "        km_status = kmeans_1.generate_tasks()\n",
    "        break\n",
    "    "
   ]
  }
 ],
 "metadata": {
  "kernelspec": {
   "display_name": "Python 3.7.13 ('ltop_py')",
   "language": "python",
   "name": "python3"
  },
  "language_info": {
   "codemirror_mode": {
    "name": "ipython",
    "version": 3
   },
   "file_extension": ".py",
   "mimetype": "text/x-python",
   "name": "python",
   "nbconvert_exporter": "python",
   "pygments_lexer": "ipython3",
   "version": "3.7.13"
  },
  "orig_nbformat": 4,
  "vscode": {
   "interpreter": {
    "hash": "757548dda17506bf7478dcf5c19d54dd277731f0c6e8d9deffb7323e66285ff1"
   }
  }
 },
 "nbformat": 4,
 "nbformat_minor": 2
}
